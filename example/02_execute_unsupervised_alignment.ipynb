{
 "cells": [
  {
   "cell_type": "markdown",
   "id": "2ebe33c6",
   "metadata": {},
   "source": [
    "# Unsupervised Alignment of Mouse Neural Representations"
   ]
  },
  {
   "cell_type": "markdown",
   "id": "9ad27391",
   "metadata": {},
   "source": [
    "## Overview\n",
    "- このノートブックではNeural RepresentationsのUnsupervised Alignmentの実行方法に付いて説明する。\n",
    "- 実行ファイルはすべて`scripts`内に格納されている。"
   ]
  },
  {
   "cell_type": "code",
   "execution_count": null,
   "id": "b95467a6",
   "metadata": {
    "vscode": {
     "languageId": "plaintext"
    }
   },
   "outputs": [],
   "source": [
    "## Group Alignment\n",
    "\n",
    "### Alignment\n",
    "#### 処理詳細\n",
    "\n",
    "#### 実行方法\n",
    "\n",
    "\n",
    "### Evaluation\n",
    "#### 実行方法\n",
    "\n",
    "#### 評価方法\n"
   ]
  },
  {
   "cell_type": "code",
   "execution_count": null,
   "id": "69abe3a5",
   "metadata": {
    "vscode": {
     "languageId": "plaintext"
    }
   },
   "outputs": [],
   "source": [
    "## 処理詳細\n",
    "-"
   ]
  },
  {
   "cell_type": "markdown",
   "id": "19ba9296",
   "metadata": {},
   "source": []
  }
 ],
 "metadata": {
  "language_info": {
   "name": "python"
  }
 },
 "nbformat": 4,
 "nbformat_minor": 5
}
